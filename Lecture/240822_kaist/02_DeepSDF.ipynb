{
  "nbformat": 4,
  "nbformat_minor": 0,
  "metadata": {
    "colab": {
      "provenance": [],
      "gpuType": "T4",
      "authorship_tag": "ABX9TyNBL3Urj0DE83D/rKD2d2cF",
      "include_colab_link": true
    },
    "kernelspec": {
      "name": "python3",
      "display_name": "Python 3"
    },
    "language_info": {
      "name": "python"
    },
    "accelerator": "GPU"
  },
  "cells": [
    {
      "cell_type": "markdown",
      "metadata": {
        "id": "view-in-github",
        "colab_type": "text"
      },
      "source": [
        "<a href=\"https://colab.research.google.com/github/EilieYoun/Narnia-Edu/blob/main/Lecture/240822_kaist/02_DeepSDF.ipynb\" target=\"_parent\"><img src=\"https://colab.research.google.com/assets/colab-badge.svg\" alt=\"Open In Colab\"/></a>"
      ]
    },
    {
      "cell_type": "markdown",
      "metadata": {
        "id": "1PpOHlxlnDvn"
      },
      "source": [
        "# 2024 KAIST 생성AI 실습 :  DeepSDF\n",
        "\n",
        "* 날짜:\n",
        "* 이름:\n",
        "\n"
      ]
    },
    {
      "cell_type": "markdown",
      "metadata": {
        "id": "XxQZXje__Db7"
      },
      "source": [
        "## **(0) Environment Setup**\n",
        "---"
      ]
    },
    {
      "cell_type": "markdown",
      "metadata": {
        "id": "g3ybYdw7--HX"
      },
      "source": [
        "### **| Utils**"
      ]
    },
    {
      "cell_type": "code",
      "execution_count": null,
      "metadata": {
        "id": "MjZhkFR_hdfV"
      },
      "outputs": [],
      "source": [
        "import numpy as np\n",
        "import matplotlib.pyplot as plt\n",
        "from mpl_toolkits.mplot3d import Axes3D\n",
        "from matplotlib.colors import LinearSegmentedColormap\n",
        "import random\n",
        "\n",
        "import torch\n",
        "from torch.utils.data import Dataset\n",
        "import torch.nn as nn\n",
        "import torch.nn.functional as F\n",
        "from torch.optim.lr_scheduler import StepLR\n",
        "from tqdm import tqdm"
      ]
    },
    {
      "cell_type": "code",
      "execution_count": null,
      "metadata": {
        "id": "OMqzWWoNQnIa"
      },
      "outputs": [],
      "source": [
        "def set_seed(seed=42):\n",
        "    # Python의 내장 난수 생성기 시드 설정\n",
        "    random.seed(seed)\n",
        "\n",
        "    # NumPy 난수 생성기 시드 설정\n",
        "    np.random.seed(seed)\n",
        "\n",
        "    # PyTorch 난수 생성기 시드 설정 (CPU)\n",
        "    torch.manual_seed(seed)\n",
        "\n",
        "    # PyTorch 난수 생성기 시드 설정 (GPU)\n",
        "    if torch.cuda.is_available():\n",
        "        torch.cuda.manual_seed(seed)\n",
        "        torch.cuda.manual_seed_all(seed)  # 모든 GPU에 대해 시드 설정\n",
        "\n",
        "    # CuDNN 설정\n",
        "    torch.backends.cudnn.deterministic = True\n",
        "    torch.backends.cudnn.benchmark = False\n",
        "\n",
        "def draw_3d_scatter(data, n=50000):\n",
        "    # 샘플링된 데이터\n",
        "    samples = data[np.random.choice(data.shape[0], n, replace=False)]\n",
        "\n",
        "    x, y, z, sdf = samples[:, 0], samples[:, 1], samples[:, 2], samples[:, 3]\n",
        "\n",
        "    # SDF 값이 0 이하인 데이터만 필터링 (첫 번째 플롯용)\n",
        "    mask_sdf_negative = sdf <= 0\n",
        "    x_neg = x[mask_sdf_negative]\n",
        "    y_neg = y[mask_sdf_negative]\n",
        "    z_neg = z[mask_sdf_negative]\n",
        "    sdf_neg = sdf[mask_sdf_negative]\n",
        "\n",
        "    # 3D 시각화\n",
        "    fig = plt.figure(figsize=(20, 6))\n",
        "\n",
        "    # 1st subplot: 3D scatter plot for SDF <= 0\n",
        "    ax1 = fig.add_subplot(131, projection='3d')\n",
        "    custom_blue = LinearSegmentedColormap.from_list(\"custom_blue\", [\"#0000ff\", \"white\"])\n",
        "\n",
        "    scatter = ax1.scatter(x_neg, y_neg, z_neg, c=sdf_neg, cmap=custom_blue, marker='.')\n",
        "    fig.colorbar(scatter, ax=ax1, label='SDF Value')\n",
        "    ax1.set_xlabel('X')\n",
        "    ax1.set_ylabel('Y')\n",
        "    ax1.set_zlabel('Z')\n",
        "    ax1.set_title('3D Scatter Plot (SDF <= 0)')\n",
        "\n",
        "    # 2nd subplot: 2D Visualization at z ≈ 0 (모든 데이터, SDF 값 클램핑)\n",
        "    z_threshold = 0.05  # z=0에서의 허용 오차\n",
        "    mask_z = np.abs(z) < z_threshold  # z 값이 0에 가까운 것만 선택\n",
        "    x_filtered_z = x[mask_z]\n",
        "    y_filtered_z = y[mask_z]\n",
        "    sdf_filtered_z = np.clip(sdf[mask_z], -0.2, 0.2)  # SDF 값을 -0.2에서 0.2로 제한\n",
        "\n",
        "    ax2 = fig.add_subplot(132)\n",
        "    sc1 = ax2.scatter(x_filtered_z, y_filtered_z, c=sdf_filtered_z, cmap='seismic', s=50, edgecolor=None)\n",
        "    ax2.set_xlabel('X')\n",
        "    ax2.set_ylabel('Y')\n",
        "    ax2.set_title('2D Visualization at z ≈ 0 (clamped SDF)')\n",
        "    fig.colorbar(sc1, ax=ax2, label='SDF Value')\n",
        "\n",
        "    # 3rd subplot: 2D Visualization at x ≈ 0 (모든 데이터, SDF 값 클램핑)\n",
        "    x_threshold = 0.05  # x=0에서의 허용 오차\n",
        "    mask_x = np.abs(x) < x_threshold  # x 값이 0에 가까운 것만 선택\n",
        "    y_filtered_x = y[mask_x]\n",
        "    z_filtered_x = z[mask_x]\n",
        "    sdf_filtered_x = np.clip(sdf[mask_x], -0.2, 0.2)  # SDF 값을 -0.2에서 0.2로 제한\n",
        "\n",
        "    ax3 = fig.add_subplot(133)\n",
        "    sc2 = ax3.scatter(y_filtered_x, z_filtered_x, c=sdf_filtered_x, cmap='seismic', s=50, edgecolor=None)\n",
        "    ax3.set_xlabel('Y')\n",
        "    ax3.set_ylabel('Z')\n",
        "    ax3.set_title('2D Visualization at x ≈ 0 (clamped SDF)')\n",
        "    fig.colorbar(sc2, ax=ax3, label='SDF Value')\n",
        "\n",
        "    plt.show()\n",
        "\n",
        "\n",
        "def draw_2dgrid(grid, mn=-4, mx=4):\n",
        "    plt.figure(figsize=(8,8))\n",
        "    plt.imshow(grid, cmap='RdBu', vmin=mn, vmax=mx, extent=[mn, mx, mn, mx])\n",
        "    plt.colorbar( shrink=0.8)\n",
        "    plt.show()\n",
        "\n",
        "def compare_2dplot(points, real_sdf, pred_sdf, x_threshold=0.2):\n",
        "    \"\"\"\n",
        "    x ≈ 0 근처에서의 2D 시각화를 수행합니다. 각 샘플에 대해 실제 값과 예측 값을 시각화합니다.\n",
        "\n",
        "    Parameters:\n",
        "    points (torch.Tensor): (2, n, 3) 크기의 3D 좌표 배열, 각 행이 [x, y, z] 형태.\n",
        "    real_sdf (torch.Tensor): (2, n) 크기의 실제 SDF 값 배열.\n",
        "    pred_sdf (torch.Tensor): (2, n) 크기의 예측된 SDF 값 배열.\n",
        "    x_threshold (float): x=0에서의 허용 오차.\n",
        "    \"\"\"\n",
        "    plt.figure(figsize=(18, 4))\n",
        "\n",
        "    for i in range(2):\n",
        "        # 현재 샘플의 데이터를 추출\n",
        "        current_points = points[i]\n",
        "        current_real_sdf = real_sdf[i]\n",
        "        current_pred_sdf = pred_sdf[i]\n",
        "\n",
        "        # x ≈ 0에서의 데이터 필터링\n",
        "        x = current_points[:, 0]  # x 좌표\n",
        "        y = current_points[:, 1]  # y 좌표\n",
        "        z = current_points[:, 2]  # z 좌표\n",
        "\n",
        "        mask_x = np.abs(x) < x_threshold  # x 값이 0에 가까운 것만 선택\n",
        "        y_filtered_x = y[mask_x]\n",
        "        z_filtered_x = z[mask_x]\n",
        "        real_sdf_filtered_x = np.clip(current_real_sdf[mask_x], -0.2, 0.2)  # 실제 SDF 값을 -0.2에서 0.2로 제한\n",
        "        pred_sdf_filtered_x = np.clip(current_pred_sdf[mask_x], -0.2, 0.2)  # 예측된 SDF 값을 -0.2에서 0.2로 제한\n",
        "\n",
        "        # subplot(141) 또는 subplot(143): Real SDF for sample i\n",
        "        ax_real = plt.subplot(1, 4, i * 2 + 1)\n",
        "        sc_real = ax_real.scatter(y_filtered_x, z_filtered_x, c=real_sdf_filtered_x, cmap='seismic', s=50, edgecolor=None)\n",
        "        ax_real.set_xlabel('Y')\n",
        "        ax_real.set_ylabel('Z')\n",
        "        ax_real.set_title(f'Sample {i+1} - Real SDF')\n",
        "        plt.colorbar(sc_real, ax=ax_real, label='SDF Value')\n",
        "\n",
        "        # subplot(142) 또는 subplot(144): Predicted SDF for sample i\n",
        "        ax_pred = plt.subplot(1, 4, i * 2 + 2)\n",
        "        sc_pred = ax_pred.scatter(y_filtered_x, z_filtered_x, c=pred_sdf_filtered_x, cmap='seismic', s=50, edgecolor=None)\n",
        "        ax_pred.set_xlabel('Y')\n",
        "        ax_pred.set_ylabel('Z')\n",
        "        ax_pred.set_title(f'Sample {i+1} - Predicted SDF')\n",
        "        plt.colorbar(sc_pred, ax=ax_pred, label='SDF Value')\n",
        "\n",
        "    plt.tight_layout()\n",
        "    plt.show()"
      ]
    },
    {
      "cell_type": "code",
      "execution_count": null,
      "metadata": {
        "id": "BXJpth6XhdfW"
      },
      "outputs": [],
      "source": [
        "set_seed(0)"
      ]
    },
    {
      "cell_type": "markdown",
      "source": [
        "### **| Data download**"
      ],
      "metadata": {
        "id": "2g8as1VbmPgf"
      }
    },
    {
      "cell_type": "code",
      "source": [
        "!gdown --folder https://drive.google.com/drive/u/0/folders/130c6Iq47wCbYS6jAQwsdOh_9cNY4TbZ1"
      ],
      "metadata": {
        "id": "9w7dMcPLmU-Y"
      },
      "execution_count": null,
      "outputs": []
    },
    {
      "cell_type": "markdown",
      "metadata": {
        "id": "vvsJn35E_F_z"
      },
      "source": [
        "\n",
        "## **(1) What is SDF?**\n",
        "\n",
        "**Signed Distance Function (SDF)**는 3D 그래픽스 및 컴퓨터 비전에서 자주 사용되는 개념으로, 주어진 공간의 각 점에서 가장 가까운 표면까지의 거리와 그 방향을 나타냅니다. SDF는 다음과 같은 특성을 가지고 있습니다:\n",
        "\n",
        "- 거리 계산: SDF는 공간 내의 임의의 점에서 표면까지의 최단 거리를 계산합니다.\n",
        "- 부호: SDF의 값은 부호를 가집니다. 표면 내부의 점은 음의 값을 가지며, 표면 외부의 점은 양의 값을 가집니다. 표면 자체의 점은 0의 값을 가집니다.\n",
        "- 표면 표현: SDF는 임의의 3D 형상을 수학적으로 간결하게 표현할 수 있으며, 복잡한 형상도 간단하게 다룰 수 있습니다.\n",
        "\n",
        "이러한 특성 때문에 SDF는 충돌 감지, 형태 최적화, 3D 모델링 및 렌더링 등 다양한 응용 분야에서 활용됩니다. 예를 들어, 3D 모델의 표면을 정의하고 그 표면과의 거리를 계산하여 물리적 충돌을 감지할 수 있습니다.\n",
        "\n",
        "이번 시간에는 SDF의 개념을 이해하기 위해 원을 예제로 사용해 보겠습니다. 원은 2D 공간에서 간단한 형상으로, 각 점에서 원의 경계까지의 거리를 계산하여 SDF를 쉽게 설명할 수 있습니다. 다음 섹션에서는 원의 SDF를 정의하고, 다양한 점들에 대해 SDF 값을 계산하여 시각화하는 과정을 다루겠습니다. 이를 통해 SDF가 어떻게 작동하는지에 대한 직관적인 이해를 돕고자 합니다.\n",
        "\n",
        "\n",
        "\n",
        "\n",
        "\n",
        "\n",
        "\n"
      ]
    },
    {
      "cell_type": "markdown",
      "metadata": {
        "id": "u3EbLBzXD83q"
      },
      "source": [
        "### **| Define 2D Circle**\n",
        "\n",
        "여기서는 `Circle` 클래스를 정의합니다. 이 클래스는 중심 좌표 `(cx, cy)`와 반지름 `(r)`을 가지며, `sdf` 메서드는 주어진 점 `(px, py)`에 대한 **Signed Distance Function** 값을 계산합니다. 이 함수는 점과 원의 경계 사이의 거리를 나타냅니다.\n",
        "\n"
      ]
    },
    {
      "cell_type": "code",
      "execution_count": null,
      "metadata": {
        "id": "-q7N6IDcQnIb"
      },
      "outputs": [],
      "source": [
        "class Circle():\n",
        "    def __init__(self, cx, cy, r):\n",
        "        self.cx = cx\n",
        "        self.cy = cy\n",
        "        self.r = r\n",
        "\n",
        "    def sdf(self, px, py):\n",
        "        point = np.float_([px, py])\n",
        "        center = np.float_([self.cx, self.cy])\n",
        "        sdf = np.linalg.norm(point - center) - self.r\n",
        "        return sdf"
      ]
    },
    {
      "cell_type": "markdown",
      "metadata": {
        "id": "_5pz-RLWeGGI"
      },
      "source": [
        "중심 좌표가 `(0, 0)` 이고 반지름이 2 인 원을 정의합니다."
      ]
    },
    {
      "cell_type": "code",
      "execution_count": null,
      "metadata": {
        "id": "4XZ4yy4ncLIR"
      },
      "outputs": [],
      "source": [
        "circle = Circle(0, 0, 2)"
      ]
    },
    {
      "cell_type": "markdown",
      "metadata": {
        "id": "IfKGkw4Rb3uz"
      },
      "source": [
        "### **| Get points**\n",
        "\n",
        "이 함수는 지정된 범위 `(mn~mx)` 와 해상도 `(resolution)` 에 따라 2D 평면의 격자점들을 생성합니다. 각 점의 좌표는 리스트로 저장되고, 이 리스트는 나중에 Numpy 배열로 변환됩니다. 이 배열은 후속 SDF 계산에 사용됩니다."
      ]
    },
    {
      "cell_type": "code",
      "execution_count": null,
      "metadata": {
        "id": "b4IEWr09E9_n"
      },
      "outputs": [],
      "source": [
        "def get_points(mn=-5, mx=5, resolution=200):\n",
        "    points = []\n",
        "    for px in np.linspace(mn, mx, resolution):\n",
        "        for py in np.linspace(mn, mx, resolution):\n",
        "            points.append([px, py])\n",
        "    points = np.array(points, dtype=np.float32)\n",
        "    return points"
      ]
    },
    {
      "cell_type": "markdown",
      "metadata": {
        "id": "qHdj_8gPdJ1i"
      },
      "source": [
        "범위 (-5~5) 이며 해상도 200 인 격자점들을 생성합니다."
      ]
    },
    {
      "cell_type": "code",
      "execution_count": null,
      "metadata": {
        "id": "cEvHtG3i6kDu"
      },
      "outputs": [],
      "source": [
        "points = get_points(-5, 5, 200)\n",
        "print(points.shape)"
      ]
    },
    {
      "cell_type": "markdown",
      "metadata": {
        "id": "3UE3r3UvcCJK"
      },
      "source": [
        "### **| Get SDF Values**"
      ]
    },
    {
      "cell_type": "markdown",
      "metadata": {
        "id": "NsMBE7yCc_cB"
      },
      "source": [
        "앞에서 얻은 격자점에 대하여 `Circle` 클래스의 `sdf` 메서드를 호출하여 SDF 값을 계산합니다."
      ]
    },
    {
      "cell_type": "code",
      "execution_count": null,
      "metadata": {
        "id": "QYkC6fHe6yUv"
      },
      "outputs": [],
      "source": [
        "sdf_values = np.array([circle.sdf(px, py) for px, py in zip(points[:,0], points[:,1])] )\n",
        "print(sdf_values.shape)"
      ]
    },
    {
      "cell_type": "markdown",
      "metadata": {
        "id": "TuVl7hvDeuaU"
      },
      "source": [
        "### **| Visualize**\n",
        "\n",
        "계산된 SDF 값들을 2D 그리드 형태로 재배열하여 시각화합니다. `draw_grid` 함수를 사용하여 그리드를 시각화할 수 있습니다."
      ]
    },
    {
      "cell_type": "code",
      "execution_count": null,
      "metadata": {
        "id": "CuaR3FS_RMPu"
      },
      "outputs": [],
      "source": [
        "sdf_grid = np.reshape(sdf_values, (200, 200))\n",
        "print(sdf_grid.shape)\n",
        "draw_2dgrid(sdf_grid)"
      ]
    },
    {
      "cell_type": "markdown",
      "metadata": {
        "id": "17aryKbUfEiy"
      },
      "source": [
        "SDF 값이 양수인 영역을 1로, 음수인 영역을 0으로 설정하여 `voxel grid`를 생성할 수 있습니다. SDF와 voxel을 차이를 시각적으로 비교해 봅니다."
      ]
    },
    {
      "cell_type": "code",
      "execution_count": null,
      "metadata": {
        "id": "y6wa32Ne9bHY"
      },
      "outputs": [],
      "source": [
        "voxel_grid = np.where(sdf_grid>0, 1., 0.)\n",
        "print(voxel_grid.shape)\n",
        "draw_2dgrid(voxel_grid)"
      ]
    },
    {
      "cell_type": "markdown",
      "metadata": {
        "id": "cM_vsHv5QnIb"
      },
      "source": [
        "## **(2) Dataset**\n",
        "\n",
        "이 섹션에서는 3D 공간에서의 SDF(Signed Distance Function) 개념을 더욱 구체적으로 이해하기 위해, 이미 생성된 sphere(구체)와 cylinder(원통) 두 개의 3D 객체를 예제로 사용합니다. 우리는 Numpy 형식의 예제 데이터셋을 불러와, 3D 공간에서의 SDF를 시각화하고 분석할 것입니다\n"
      ]
    },
    {
      "cell_type": "markdown",
      "metadata": {
        "id": "J4Y3WUHdEQ0O"
      },
      "source": [
        "### **| 데이터 확인**"
      ]
    },
    {
      "cell_type": "code",
      "execution_count": null,
      "metadata": {
        "id": "IB9a4CwqtYG2"
      },
      "outputs": [],
      "source": [
        "data_paths=['dataset/sphere.npy', 'dataset/cylinder.npy']\n",
        "\n",
        "x1 = np.load(data_paths[0])\n",
        "print(x1.shape, x1[0])\n",
        "\n",
        "x2 = np.load(data_paths[1])\n",
        "print(x2.shape, x2[0])"
      ]
    },
    {
      "cell_type": "markdown",
      "metadata": {
        "id": "qzPVJtoGy_oR"
      },
      "source": [
        "데이터를 시각화 합니다."
      ]
    },
    {
      "cell_type": "code",
      "execution_count": null,
      "metadata": {
        "id": "dTnZonyntg2M"
      },
      "outputs": [],
      "source": [
        "draw_3d_scatter(x1)\n",
        "draw_3d_scatter(x2)"
      ]
    },
    {
      "cell_type": "markdown",
      "metadata": {
        "id": "p95bcxQMkEca"
      },
      "source": [
        "### **| Prepair dataloader**\n",
        "\n",
        "\n",
        "데이터 경로로부터 넘파이 배열을 불러오고, 좌표값, SDF값 데이터 인덱스를 추출하고 준비하는 과정을 설명합니다.\n",
        "$$ TRAIN := \\{((x, y, z), s) : SDF(x, y, z) = s\\} $$"
      ]
    },
    {
      "cell_type": "code",
      "execution_count": null,
      "metadata": {
        "id": "etokMApTALWD"
      },
      "outputs": [],
      "source": [
        "class dataset(Dataset):\n",
        "    def __init__(self, data_paths, npoints=2048):\n",
        "        self.data_paths = data_paths #[item for item in os.listdir(path) if item[-4:] == '.npy']\n",
        "        self.npoints = npoints\n",
        "\n",
        "    def __len__(self):\n",
        "        return len(self.data_paths)\n",
        "\n",
        "    # 45% inside, 45% outside, 10% sphere\n",
        "    def __getitem__(self, idx):\n",
        "        path = self.data_paths[idx]\n",
        "        data = np.load(path)\n",
        "        samples = data[np.random.choice(data.shape[0], self.npoints, replace=False)]\n",
        "        point = samples[...,:3]\n",
        "        sdf = samples[...,-1]\n",
        "        return point, sdf, idx"
      ]
    },
    {
      "cell_type": "code",
      "execution_count": null,
      "metadata": {
        "id": "y0O92JHllLIq"
      },
      "outputs": [],
      "source": [
        "num_points = 1024\n",
        "\n",
        "train_dataset = dataset(data_paths, num_points)\n",
        "train_loader = torch.utils.data.DataLoader(train_dataset, batch_size = 2, shuffle=True)"
      ]
    },
    {
      "cell_type": "code",
      "execution_count": null,
      "metadata": {
        "id": "V-1IDvQv4CFz"
      },
      "outputs": [],
      "source": [
        "for batch_points, batch_sdf, batch_idx in train_loader:\n",
        "    print(batch_points.shape, batch_sdf.shape, batch_idx.shape)"
      ]
    },
    {
      "cell_type": "markdown",
      "metadata": {
        "id": "JMINCeGCl_Q0"
      },
      "source": [
        "## **(3) Model**\n",
        "\n",
        "3D 객체의 SDF(Signed Distance Function)를 학습하고 예측하기 위한 모델 구조를 정의합니다. 이 모델은 두 가지 주요 구성 요소로 이루어져 있습니다: `ShapeCodeEmbedder`와 `Net`입니다.\n",
        "\n",
        "`ShapeCodeEmbedder`는 각 3D 객체에 고유한 임베딩(embedding)을 제공하며, 이는 객체의 모양을 잠재 공간(latent space)에서 나타내는 벡터입니다. `Net`은 이 임베딩 벡터와 3D 좌표를 입력으로 받아, 해당 좌표에서의 SDF 값을 예측하는 역할을 합니다. 이 두 구성 요소는 함께 작동하여 다양한 3D 객체에 대해 SDF를 효과적으로 모델링할 수 있습니다.\n",
        "\n"
      ]
    },
    {
      "cell_type": "markdown",
      "metadata": {
        "id": "H2IhOSfr4fzn"
      },
      "source": [
        "### **| Define Embedder**\n",
        "\n",
        "`ShapeCodeEmbedder`는 모델이 학습하는 각 3D 객체에 대해 고유한 임베딩 벡터를 생성하는 역할을 합니다. 임베딩 벡터는 잠재 공간(latent space)에서 객체의 모양을 표현하는데 사용됩니다. 이 클래스는 다음과 같은 주요 기능을 가지고 있습니다:\n",
        "\n",
        "- 임베딩 초기화: 임베딩 벡터는 가우시안 분포를 사용해 무작위로 초기화됩니다. 초기화는 `reset_parameters` 메서드를 통해 수행되며, 임베딩 벡터가 적절한 범위 내에서 시작되도록 합니다.\n",
        "- 임베딩 인덱싱: `forward` 메서드는 주어진 객체 인덱스에 해당하는 임베딩 벡터를 반환합니다. 이 벡터는 이후 모델의 입력으로 사용됩니다."
      ]
    },
    {
      "cell_type": "code",
      "execution_count": null,
      "metadata": {
        "id": "oLBMhPSi4dst"
      },
      "outputs": [],
      "source": [
        "class ShapeCodeEmbedder(nn.Module):\n",
        "    def __init__(self, N, dim):\n",
        "        super(ShapeCodeEmbedder, self).__init__()\n",
        "        self.N = N\n",
        "        self.dim = dim\n",
        "        self.embed_params = nn.Parameter(torch.Tensor(N, dim))\n",
        "        self.reset_parameters()\n",
        "\n",
        "    def reset_parameters(self):\n",
        "        init_std = 1.0 / np.sqrt(self.dim)\n",
        "\n",
        "        torch.nn.init.normal_(\n",
        "            self.embed_params.data,\n",
        "            0.0,\n",
        "            init_std,\n",
        "        )\n",
        "\n",
        "    def forward(self, idx):\n",
        "        batch_embed = self.embed_params[idx]\n",
        "        batch_embed = batch_embed.unsqueeze(1)\n",
        "\n",
        "        return batch_embed"
      ]
    },
    {
      "cell_type": "code",
      "execution_count": null,
      "metadata": {
        "id": "0qwM73lHB1m-"
      },
      "outputs": [],
      "source": [
        "N = 2\n",
        "emb_dims = 16\n",
        "\n",
        "embedder = ShapeCodeEmbedder(N, emb_dims)\n",
        "batch_latent = embedder(batch_idx)\n",
        "print(batch_latent.shape)"
      ]
    },
    {
      "cell_type": "code",
      "execution_count": null,
      "metadata": {
        "id": "31m55C265Uft"
      },
      "outputs": [],
      "source": [
        "batch_latent_codes = batch_latent.repeat(1,num_points,1)\n",
        "batch_latent_codes.shape, batch_points.shape"
      ]
    },
    {
      "cell_type": "markdown",
      "metadata": {
        "id": "--xU87-8mT0_"
      },
      "source": [
        "### **| Network Architecture**\n",
        "\n",
        "![](https://github.com/EilieYoun/Narnia-Edu/blob/main/Lecture/imgs/2408_KAIST_02_02.png?raw=true)\n",
        "\n",
        "`Net`은 주어진 임베딩 벡터와 3D 좌표를 결합하여, 해당 좌표에서의 SDF 값을 예측하는 역할을 합니다. 이 신경망은 다음과 같은 구조를 가지고 있습니다:\n",
        "\n",
        "- 입력 계층: Net은 임베딩 벡터와 3D 좌표를 입력으로 받아, 이를 첫 번째 완전 연결층(fc1)에 전달합니다. 이 계층은 임베딩과 좌표를 결합하여 잠재 공간에서 더 복잡한 특징을 학습합니다.\n",
        "- 은닉 계층: fc1 계층의 출력은 두 번째 완전 연결층(fc2)으로 전달되어, 더 깊은 특징을 학습하게 됩니다.\n",
        "- 출력 계층: 마지막으로, fc2 계층의 출력은 fc3로 전달되며, 이 계층에서 최종적으로 SDF 값이 예측됩니다. 예측된 SDF 값은 tanh 활성화 함수를 통해 제한된 범위로 정규화됩니다.\n"
      ]
    },
    {
      "cell_type": "code",
      "execution_count": null,
      "metadata": {
        "id": "FN_gImt1B-2g"
      },
      "outputs": [],
      "source": [
        "class Net(nn.Module):\n",
        "\n",
        "    def __init__(self, lc_dim = 16, h_dim = 50):\n",
        "        super(Net, self).__init__()\n",
        "\n",
        "        self.fc1 = nn.Linear(lc_dim + 3, h_dim)\n",
        "        self.fc2 = nn.Linear(h_dim, h_dim)\n",
        "        self.fc3 = nn.Linear(h_dim, 1)\n",
        "\n",
        "    def forward(self, x):\n",
        "        x = torch.Tensor(x)\n",
        "        x = F.relu(self.fc1(x))\n",
        "        x = F.relu(self.fc2(x))\n",
        "        x = torch.tanh(self.fc3(x))\n",
        "        return x\n",
        "\n",
        "\n",
        "net = Net()\n",
        "print(net)"
      ]
    },
    {
      "cell_type": "markdown",
      "source": [
        "네트워크의 인풋과 아웃풋을 확인합니다."
      ],
      "metadata": {
        "id": "a2BFXNy0kWbQ"
      }
    },
    {
      "cell_type": "code",
      "execution_count": null,
      "metadata": {
        "id": "FFiPfriTKsec"
      },
      "outputs": [],
      "source": [
        "model_inputs = torch.cat([batch_latent_codes, batch_points], axis = 2)\n",
        "with torch.no_grad():\n",
        "    model_outputs = net(model_inputs)\n",
        "model_inputs.shape, model_outputs.shape"
      ]
    },
    {
      "cell_type": "markdown",
      "metadata": {
        "id": "_nBWwWKomije"
      },
      "source": [
        "현재 네트워크의 성능을 시각적으로 평가합니다"
      ]
    },
    {
      "cell_type": "code",
      "execution_count": null,
      "metadata": {
        "id": "ojp9obfBGt4I"
      },
      "outputs": [],
      "source": [
        "preds_sdf = model_outputs.numpy()[:,:,0]\n",
        "compare_2dplot( batch_points, batch_sdf, preds_sdf)"
      ]
    },
    {
      "cell_type": "markdown",
      "metadata": {
        "id": "3mjtTkhznUFJ"
      },
      "source": [
        "### **| Model Training**\n",
        "\n",
        "- `optim.Adam`: 확률적 경사 하강법(Stochastic Gradient Descent, SGD)을 기반으로 하며, 학습 과정에서 학습률을 적응적으로 조정하는 기능을 포함합니다.\n",
        "- `StepLR`: 학습률 스케줄러를 설정하여 학습률을 점진적으로 감소시킵니다.\n",
        "- `compare_2dplot`: 일정 에폭마다 학습된 모델의 성능을 고정된 샘플 데이터로 평가합니다."
      ]
    },
    {
      "cell_type": "code",
      "execution_count": null,
      "metadata": {
        "id": "6EjQhXrPhdfd"
      },
      "outputs": [],
      "source": [
        "def train_model(net, embedder, train_loader,epochs=2000, device='cuda'):\n",
        "    embedder.to(device)\n",
        "    net.to(device)\n",
        "\n",
        "    optim = torch.optim.Adam(net.parameters(), lr=0.001, betas=[0.9,0.999], eps=1.0e-12, weight_decay=0.1, amsgrad=False)\n",
        "    scheduler = StepLR(optim, step_size=500, gamma=0.5)\n",
        "\n",
        "    optim_emb = torch.optim.Adam(embedder.parameters(), lr=0.001, betas=[0.9,0.999], eps=1.0e-12, weight_decay=0.1, amsgrad=False)\n",
        "    scheduler_emb = StepLR(optim_emb, step_size=500, gamma=0.5)\n",
        "\n",
        "    # prepair inferece sample\n",
        "    for bidx, (sample_points, sample_sdf, sample_idx) in enumerate(train_loader):\n",
        "        sample_points = sample_points.to(device)\n",
        "        sample_sdf = sample_sdf.to(device)\n",
        "        sample_codes = embedder(sample_idx).repeat(1,num_points,1).to(device)\n",
        "        sample_inputs = torch.cat([sample_codes, sample_points], axis = 2).to(device)\n",
        "        break\n",
        "\n",
        "    # train\n",
        "    with tqdm(range(epochs)) as pbar:\n",
        "        losses = []\n",
        "        net.train()\n",
        "        embedder.train()\n",
        "        loss = nn.L1Loss()\n",
        "\n",
        "        for epoch in pbar:\n",
        "            for bidx, (points, sdf_gt, idx) in enumerate(train_loader):\n",
        "                optim.zero_grad()\n",
        "                optim_emb.zero_grad()\n",
        "\n",
        "                points = points.to(device)\n",
        "                sdf_gt = sdf_gt.to(device)\n",
        "                latent_emb = embedder(idx).repeat(1,num_points,1).to(device)\n",
        "                latent_codes = torch.cat([latent_emb, points], axis = 2).to(device)\n",
        "\n",
        "                model_output = net(latent_codes).squeeze()\n",
        "\n",
        "                train_loss = torch.sqrt(torch.sum((sdf_gt - model_output)**2))\n",
        "                pbar.set_description(\"loss: {:.6f}\".format(train_loss.item()))\n",
        "\n",
        "                # backward\n",
        "                train_loss.backward()\n",
        "                optim.step()\n",
        "                scheduler.step()\n",
        "\n",
        "                optim_emb.step()\n",
        "                scheduler_emb.step()\n",
        "                losses.append(train_loss.item())\n",
        "\n",
        "            if epoch %(epochs//10)==0:\n",
        "                with torch.no_grad():\n",
        "                    sample_outputs = net(sample_inputs)\n",
        "                compare_2dplot( sample_points.cpu().numpy(), sample_sdf.cpu().numpy(), sample_outputs.cpu().numpy())\n",
        "\n",
        "    compare_2dplot( sample_points.cpu().numpy(), sample_sdf.cpu().numpy(), sample_outputs.cpu().numpy())\n",
        "\n",
        "\n",
        "    return net, embedder, losses"
      ]
    },
    {
      "cell_type": "markdown",
      "source": [
        "모델 학습"
      ],
      "metadata": {
        "id": "9VLv-_rlkbIX"
      }
    },
    {
      "cell_type": "code",
      "execution_count": null,
      "metadata": {
        "scrolled": true,
        "id": "pbxJH-aIhdfd"
      },
      "outputs": [],
      "source": [
        "net, embedder, losses = train_model(net, embedder, train_loader)"
      ]
    },
    {
      "cell_type": "markdown",
      "source": [
        "학습 과정을 시각화합니다."
      ],
      "metadata": {
        "id": "qbUYqKeOkaDK"
      }
    },
    {
      "cell_type": "code",
      "execution_count": null,
      "metadata": {
        "id": "IjIxW4kBhdfe"
      },
      "outputs": [],
      "source": [
        "plt.figure(figsize=(12,3))\n",
        "plt.title('Train Losses')\n",
        "_=plt.plot(losses)"
      ]
    }
  ]
}